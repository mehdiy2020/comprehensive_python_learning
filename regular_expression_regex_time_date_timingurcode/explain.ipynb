{
 "cells": [
  {
   "cell_type": "markdown",
   "id": "d54063f0",
   "metadata": {},
   "source": [
    "# Regular Expressions are not a programming language. \n",
    "## Look for pattern, or specific character(s).\n",
    "### Getting regular expression `regex` is a matter of seeing the patterns.\n",
    "\n",
    "### Four Important Components:\n",
    "- `dot (.)` letters, numbers, symbols, ... anythings but not `newlines`,\n",
    "- `plus (+)` means one or more of,\n",
    "- ` asterisk (*)` means zero or more of,\n",
    "- `question mark (?)` means zero or one of\n",
    "\n",
    "## NOTE: when we use dot as one the expressions in a statement we shall apply a back-slash `\\.` to avoid anythings interpretation.\n",
    "\n",
    "Try [https://regexr.com/](egexr.com) to practice \n",
    "\n",
    "- So if we use `.` it matches any charaters except line breaks individually.\n",
    "- if you want get them all, match them all at once `.*`. \n",
    "- if we use `[aghr]`, it machtes any similar character in the expression individually (highlight them!).\n",
    "- if we use `[aghr]+`, it matches any similar characters and if there arer more than one of this character next to each other highlight them (recognized them) all in a set.\n",
    "- if we use `[a-z]`, it matches all the lowercase letters in the expression individually.\n",
    "- if we use `[a-z]+`, it matches all the lowercase letters in the expression in form of words as long as they are not separated somehow!\n",
    "- if we use `[a-z]*`, it matches all the lowercase letters in the expression in form of words as long as they are not separated somehow!\n",
    "- if we use `[A-z]+`, it matches all the Upper & Lowercase letters in the expression in form of words as long as they are not separated somehow! The ascii code from number 65 to 122!\n",
    "- if we use `[A-z\\.]+`, it matches all the Upper & Lowercase letters in the expression in form of words and any dots (.) may or may not be highlighted/selected/recognozed next to a word or separately!\n",
    "- if we use `.` we match anythings separately!\n",
    "- if we use `.+` we match anythings all to gether!"
   ]
  },
  {
   "cell_type": "markdown",
   "id": "57875617",
   "metadata": {},
   "source": [
    "`mehdi@yahoo.com` <span style='color: yellow;'> if we use [A-z\\.]+ it is going to highlight mehdi and yahoo.com, since it is takes all letters (uppercase and lowercase) as groups and any dots (.) </span> since it appears after froward slash. Here is the result:\n",
    "\n",
    "<mark>mehdi</mark>@<mark>yahoo.com</mark>\n",
    "\n",
    "- If we use [A-z\\.]+@ ==> <mark>mehdi@</mark>yahoo.com\n",
    "- If we use [A-z\\.]+@[A-z] ==> <mark>mehdi@y</mark>ahoo.com\n",
    "- If we use [A-z\\.]+@[A-z]+ ==> <mark>mehdi@yahoo</mark>.com\n",
    "- If we use [A-z\\.]+@[A-z]+\\. ==> <mark>mehdi@yahoo.</mark>com\n",
    "- If we use [A-z\\.]+@[A-z]+\\.(com|net|ca|org) ==> <mark>mehdi@yahoo.com</mark> or <mark>mehdi@yahoo.net</mark> or <mark>mehdi@yahoo.ca</mark> or <mark>mehdi@yahoo.org</mark>  \n",
    "\n"
   ]
  },
  {
   "cell_type": "markdown",
   "id": "2fff5c74",
   "metadata": {},
   "source": []
  },
  {
   "cell_type": "markdown",
   "id": "def7454b",
   "metadata": {},
   "source": [
    "`import re` (The relevant package)\n",
    "\n",
    "`email = 'javad_Asani@gmail.com` \n",
    "\n",
    "#### Donot forget to `r'^...your expression....$'` only when you match the <span style='color: red;'>entire string</span>\n",
    "\n",
    "`expression = r'^[A-z]+$'`\n",
    "\n",
    "`matches = re.findall(expression, email)`\n",
    "`print(matches)`\n",
    "\n",
    "outcome is a list -> ['java_Asani', 'gmail', 'com']"
   ]
  },
  {
   "cell_type": "code",
   "execution_count": null,
   "id": "38dfd982",
   "metadata": {},
   "outputs": [
    {
     "name": "stdout",
     "output_type": "stream",
     "text": [
      "[]\n"
     ]
    }
   ],
   "source": [
    "import re\n",
    "\n",
    "email = 'java_Asani@gmail.com'\n",
    "expression = r'[A-z]+'\n",
    "\n",
    "matches = re.findall(expression, email)\n",
    "print(matches)"
   ]
  },
  {
   "cell_type": "markdown",
   "id": "86dbec18",
   "metadata": {},
   "source": [
    "## Not always working with expressions required! \n",
    "\n",
    "`email = mansour.kamal@arona_chemie.com`\n",
    "\n",
    "`pieces = email.split('@') # The out come is a list`\n",
    "\n",
    "`pieces[0]` --> ['mansour.kamal', 'arona_chemie.com']"
   ]
  },
  {
   "cell_type": "code",
   "execution_count": 15,
   "id": "6ba205f4",
   "metadata": {},
   "outputs": [
    {
     "name": "stdout",
     "output_type": "stream",
     "text": [
      "['mansour.kamal', 'arona_chemie.com']\n"
     ]
    }
   ],
   "source": [
    "email = 'mansour.kamal@arona_chemie.com'\n",
    "\n",
    "pieces = email.split('@')\n",
    "\n",
    "print(pieces)"
   ]
  },
  {
   "cell_type": "markdown",
   "id": "df575e7a",
   "metadata": {},
   "source": [
    "We can use following:\n",
    "\n",
    "`price = 'Price: $189.50'`\n",
    "\n",
    "`expression = r'[A-z]+: \\$([0-9]+\\.[0-9]{2} )`\n",
    "\n",
    "- To correctly handle the space: \\s*\n",
    "\n",
    "#### The re.search makes the string in tow group of whole string and the part within the curly bracket\n",
    "\n",
    "outcome = re.search(expression, price)\n",
    "\n",
    "`print(outcome.group(0)) # The whole String`\n",
    "`print(outcome.group(1)) # the Part in the Curly bracket`"
   ]
  },
  {
   "cell_type": "code",
   "execution_count": null,
   "id": "07faa701",
   "metadata": {},
   "outputs": [
    {
     "name": "stdout",
     "output_type": "stream",
     "text": [
      "Price: $1908789.564\n",
      "1908789.564\n"
     ]
    }
   ],
   "source": [
    "import re\n",
    "price = 'Price: $1908789.56430'\n",
    "expression = r'[A-z]+:\\s*\\$([0-9]+\\.[0-9]{3})'\n",
    "\n",
    "matches = re.search(expression, price)\n",
    "\n",
    "print(matches.group(0))\n",
    "print(matches.group(1))"
   ]
  },
  {
   "cell_type": "code",
   "execution_count": 47,
   "id": "bdef631c",
   "metadata": {},
   "outputs": [
    {
     "name": "stdout",
     "output_type": "stream",
     "text": [
      "Price: $1,908,789.564\n",
      "1,908,789.564\n",
      "1908789.564\n"
     ]
    }
   ],
   "source": [
    "import re\n",
    "price = 'Price: $1,908,789.56430'\n",
    "expression = r'[A-z]+:\\s*\\$([0-9,]+\\.[0-9]{3})'\n",
    "\n",
    "matches = re.search(expression, price)\n",
    "\n",
    "print(matches.group(0))\n",
    "print(matches.group(1))\n",
    "print(matches.group(1).replace(\",\", \"\"))"
   ]
  },
  {
   "cell_type": "code",
   "execution_count": 52,
   "id": "93bfb88d",
   "metadata": {},
   "outputs": [
    {
     "data": {
      "text/plain": [
       "True"
      ]
     },
     "execution_count": 52,
     "metadata": {},
     "output_type": "execute_result"
    }
   ],
   "source": [
    "def is_file_name_safe(filename):\n",
    "  my_expression_check = r'^[A-z0-9][A-z0-9\\-\\_\\(\\)]+\\.(jpg|jpeg|png|gif)$'\n",
    "  return(my_expression_check, filename) is not None\n",
    "\n",
    "is_file_name_safe('Dole3iiii5m_edf454.jpg')"
   ]
  },
  {
   "cell_type": "markdown",
   "id": "89f787eb",
   "metadata": {},
   "source": [
    "## Timezone\n",
    "\n",
    "### Always use utc time in your work\n",
    "\n",
    "UTC is Coordinated Universal Time - It is a reference point that everyone can use! IT is not a timezone just a reference time 😁\n",
    "\n",
    "\n",
    "\n",
    "- The current time in local terminal oblivient to the TimeZone (naive):\n",
    "\n",
    "` from datetime import datetime`\n",
    "\n",
    "`print(datetime.now())` --> 2025-10-17 19:18:06.209858\n",
    "\n",
    "- The aware date time object:\n",
    "\n",
    "` from datetime import datetime, timezone, timedelta`\n",
    "\n",
    "`print(datetime.now(timezone.utc))` --> 2025-10-17 23:19:28.036214+00:00 (The time in utc has +00:00 or ZERO offset)\n",
    "\n",
    "- To give the format to date that we desire:\n",
    "  \n",
    "`print(today.strftime('%d-%m-%Y %H:%M'))` \"String Format Time\"\n",
    "\n",
    "- CHange the string user date into datetime format:\n",
    "\n",
    "`datetime.strptime(user_date, '%Y-%d-%m')` \"String Parse Time\"\n",
    "\n",
    "\n",
    "\n",
    "\n",
    "\n"
   ]
  },
  {
   "cell_type": "code",
   "execution_count": 1,
   "id": "d0c0b0c8",
   "metadata": {},
   "outputs": [
    {
     "name": "stdout",
     "output_type": "stream",
     "text": [
      "2025-10-17 19:32:08.498883\n",
      "2025-10-17 23:32:08.499016+00:00\n",
      "2025-10-17 23:32:08.499067+00:00\n",
      "Today time is 2025-10-17 23:32:08.499098+00:00 and tomorrow at the same time will be 2025-10-18 23:32:08.499098+00:00\n",
      "2024-11-09\n"
     ]
    }
   ],
   "source": [
    "from datetime import datetime, timezone, timedelta\n",
    "\n",
    "print(datetime.now())\n",
    "\n",
    "print(datetime.now(timezone.utc))\n",
    "print(datetime.now(timezone.utc))\n",
    "\n",
    "today = datetime.now(timezone.utc)\n",
    "tommorw = today + timedelta(days=1) # At the same time\n",
    "print(f'Today time is {today} and tomorrow at the same time will be {tommorw}')\n",
    "\n",
    "today.strftime('%d-%m-%Y %H:%M:%S')\n",
    "\n",
    "\n",
    "user_date = input(\"Enter your date into YYYY-dd-mm format: \")\n",
    "userdate = datetime.strptime(user_date, '%Y-%d-%m')\n",
    "\n",
    "print(user_date)\n",
    "\n",
    "\n"
   ]
  },
  {
   "cell_type": "markdown",
   "id": "f7cb82a7",
   "metadata": {},
   "source": []
  },
  {
   "cell_type": "markdown",
   "id": "a946c4c8",
   "metadata": {},
   "source": [
    "## How to Time Your Function - How Long It Takes to Run\n",
    "\n",
    "\n",
    "`import time`\n",
    "\n",
    "start = time.time()      ###### the moment we calculate current time at that moment!\n",
    "function\n",
    "stop = time.time()\n",
    "\n",
    "\n",
    "`def meadure_runtime(func):`\n",
    "\n",
    "  `start = time.time()`\n",
    "\n",
    "  `func()`\n",
    "\n",
    "  `end = time-time()`\n",
    "\n",
    "  `print(end - start)`\n",
    "\n",
    "\n",
    "if func() has an argument we have to pass it through lambda function\n",
    "\n",
    "`measue_runtime(lambda: powers(4560))`\n",
    "\n",
    "- The other useful package in TIMEIT\n",
    "  \n",
    "  `import timeit`\n",
    "  "
   ]
  },
  {
   "cell_type": "code",
   "execution_count": 10,
   "id": "68396a05",
   "metadata": {},
   "outputs": [
    {
     "name": "stdout",
     "output_type": "stream",
     "text": [
      "0.004420280456542969\n",
      "3149.199736958999\n"
     ]
    }
   ],
   "source": [
    "import time\n",
    "import timeit\n",
    "\n",
    "def powers(limit):\n",
    "  return [x**x for x in range(limit)]\n",
    "\n",
    "\n",
    "start = time.time()\n",
    "powers(800)\n",
    "end = time.time()\n",
    "\n",
    "print(end-start)\n",
    "\n",
    "\n",
    "print(timeit.timeit(\"[x**x for x in range(800)]\"))"
   ]
  }
 ],
 "metadata": {
  "kernelspec": {
   "display_name": "my_project",
   "language": "python",
   "name": "python3"
  },
  "language_info": {
   "codemirror_mode": {
    "name": "ipython",
    "version": 3
   },
   "file_extension": ".py",
   "mimetype": "text/x-python",
   "name": "python",
   "nbconvert_exporter": "python",
   "pygments_lexer": "ipython3",
   "version": "3.12.3"
  }
 },
 "nbformat": 4,
 "nbformat_minor": 5
}
